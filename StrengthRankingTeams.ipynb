{
 "cells": [
  {
   "cell_type": "markdown",
   "metadata": {},
   "source": [
    "## Estimated strength and teams ranking\n",
    "\n",
    "In this notebook we estimate the strength of handball teams and derive a ranking for European female clubs.\n",
    "\n",
    "Based on [[1]](#references), the strength of a team is defined as\n",
    "\n",
    "$$\n",
    "s = s_a \\cdot s_d = \\dfrac{\\log(\\lambda_a) \\cdot \\nu_{d}}{\\nu_{a} \\cdot \\log(\\lambda_d)}.\n",
    "$$"
   ]
  },
  {
   "cell_type": "code",
   "execution_count": 15,
   "metadata": {},
   "outputs": [],
   "source": [
    "from handballPredictions import HandballData\n",
    "import numpy as np"
   ]
  },
  {
   "cell_type": "markdown",
   "metadata": {},
   "source": [
    "We first set some parameters to extract historical data."
   ]
  },
  {
   "cell_type": "code",
   "execution_count": 2,
   "metadata": {},
   "outputs": [],
   "source": [
    "connection = 'direct'\n",
    "gender = 'F'\n",
    "is_international = False"
   ]
  },
  {
   "cell_type": "markdown",
   "metadata": {},
   "source": [
    "We fit the SEL parameters that are the strength and defense teams used for modeling scored goals."
   ]
  },
  {
   "cell_type": "code",
   "execution_count": 10,
   "metadata": {},
   "outputs": [
    {
     "name": "stdout",
     "output_type": "stream",
     "text": [
      "Reading cached data\n"
     ]
    },
    {
     "name": "stderr",
     "output_type": "stream",
     "text": [
      "100%|██████████| 780/780 [26:30<00:00,  2.04s/it]\n"
     ]
    }
   ],
   "source": [
    "hb_d = HandballData(gender=gender, international=is_international, connection=connection)\n",
    "sel = hb_d.fit_sel_params(j=150)"
   ]
  },
  {
   "cell_type": "markdown",
   "metadata": {},
   "source": [
    "We then filter on female teams and leagues of interest.\n",
    "We also extract historical data with scored goals.\n",
    "This will be used to compute the empirical mean for each team."
   ]
  },
  {
   "cell_type": "code",
   "execution_count": 11,
   "metadata": {},
   "outputs": [
    {
     "name": "stdout",
     "output_type": "stream",
     "text": [
      "Reading cached data\n"
     ]
    }
   ],
   "source": [
    "# List leagues of interest\n",
    "leagues = [k for k, v in hb_d.national_games.items() if v['gender'] == 'F']\n",
    "# Load historical scores data\n",
    "matches = hb_d._get_inputs()\n",
    "teams = list(matches[(matches.league_id.isin(leagues)) & (matches.season == '2022/2023')].home_team_id.unique())"
   ]
  },
  {
   "cell_type": "code",
   "execution_count": 12,
   "metadata": {},
   "outputs": [],
   "source": [
    "def scored(x, season='2022/2023', o='home_score_final'):\n",
    "    \"\"\"Function to extract the empirical mean of scored goals per team and season\n",
    "    \"\"\"\n",
    "    return matches[o][(matches.home_team_id == x) &( matches.season == season)].mean()"
   ]
  },
  {
   "cell_type": "code",
   "execution_count": 13,
   "metadata": {},
   "outputs": [],
   "source": [
    "hb_d.sel_params['attack_emp'] = hb_d.sel_params['team_id'].apply(scored, o='home_score_final')\n",
    "hb_d.sel_params['defense_emp'] = hb_d.sel_params['team_id'].apply(scored, o='away_score_final')\n",
    "# We scale the defense strength by a factor of 10 to be in the same range as attack strength.\n",
    "# By definition and construction of the strength, this does not affect the ranking.\n",
    "hb_d.sel_params['defense_strength'] = 10* hb_d.sel_params['nu_defense'] / np.log(hb_d.sel_params['lambda_defense'])\n",
    "# Strength = attack * defense\n",
    "hb_d.sel_params['strength'] = hb_d.sel_params['attack_strength'] * hb_d.sel_params['defense_strength']"
   ]
  },
  {
   "cell_type": "markdown",
   "metadata": {},
   "source": [
    "Let us display the top 10 strongest teams in Europe, estimated via our method."
   ]
  },
  {
   "cell_type": "code",
   "execution_count": 19,
   "metadata": {},
   "outputs": [
    {
     "data": {
      "text/html": [
       "<div>\n",
       "<style scoped>\n",
       "    .dataframe tbody tr th:only-of-type {\n",
       "        vertical-align: middle;\n",
       "    }\n",
       "\n",
       "    .dataframe tbody tr th {\n",
       "        vertical-align: top;\n",
       "    }\n",
       "\n",
       "    .dataframe thead th {\n",
       "        text-align: right;\n",
       "    }\n",
       "</style>\n",
       "<table border=\"1\" class=\"dataframe\">\n",
       "  <thead>\n",
       "    <tr style=\"text-align: right;\">\n",
       "      <th></th>\n",
       "      <th>team_slug</th>\n",
       "      <th>attack_emp</th>\n",
       "      <th>defense_emp</th>\n",
       "      <th>attack_strength</th>\n",
       "      <th>defense_strength</th>\n",
       "      <th>strength</th>\n",
       "    </tr>\n",
       "  </thead>\n",
       "  <tbody>\n",
       "    <tr>\n",
       "      <th>0</th>\n",
       "      <td>mks-zaglebie-lubin1</td>\n",
       "      <td>32.461538</td>\n",
       "      <td>22.153846</td>\n",
       "      <td>3.459735</td>\n",
       "      <td>3.203474</td>\n",
       "      <td>11.083171</td>\n",
       "    </tr>\n",
       "    <tr>\n",
       "      <th>1</th>\n",
       "      <td>vipers-kristiansand</td>\n",
       "      <td>36.956522</td>\n",
       "      <td>25.956522</td>\n",
       "      <td>3.562251</td>\n",
       "      <td>3.071824</td>\n",
       "      <td>10.942611</td>\n",
       "    </tr>\n",
       "    <tr>\n",
       "      <th>2</th>\n",
       "      <td>gyori-audi-eto-kc</td>\n",
       "      <td>32.956522</td>\n",
       "      <td>24.782609</td>\n",
       "      <td>3.482834</td>\n",
       "      <td>3.141009</td>\n",
       "      <td>10.939613</td>\n",
       "    </tr>\n",
       "    <tr>\n",
       "      <th>3</th>\n",
       "      <td>rk-podravka-vegeta</td>\n",
       "      <td>31.400000</td>\n",
       "      <td>22.000000</td>\n",
       "      <td>3.394068</td>\n",
       "      <td>3.202549</td>\n",
       "      <td>10.869670</td>\n",
       "    </tr>\n",
       "    <tr>\n",
       "      <th>4</th>\n",
       "      <td>metz-handball</td>\n",
       "      <td>33.190476</td>\n",
       "      <td>24.047619</td>\n",
       "      <td>3.478869</td>\n",
       "      <td>3.119963</td>\n",
       "      <td>10.853945</td>\n",
       "    </tr>\n",
       "    <tr>\n",
       "      <th>5</th>\n",
       "      <td>team-esbjerg</td>\n",
       "      <td>33.037037</td>\n",
       "      <td>24.296296</td>\n",
       "      <td>3.470639</td>\n",
       "      <td>3.113011</td>\n",
       "      <td>10.804136</td>\n",
       "    </tr>\n",
       "    <tr>\n",
       "      <th>6</th>\n",
       "      <td>sg-bbm-bietigheimw</td>\n",
       "      <td>34.750000</td>\n",
       "      <td>25.250000</td>\n",
       "      <td>3.547333</td>\n",
       "      <td>3.043750</td>\n",
       "      <td>10.797195</td>\n",
       "    </tr>\n",
       "    <tr>\n",
       "      <th>7</th>\n",
       "      <td>ik-savehof1</td>\n",
       "      <td>30.700000</td>\n",
       "      <td>24.750000</td>\n",
       "      <td>3.435066</td>\n",
       "      <td>3.114055</td>\n",
       "      <td>10.696983</td>\n",
       "    </tr>\n",
       "    <tr>\n",
       "      <th>8</th>\n",
       "      <td>dvsc-schaeffler</td>\n",
       "      <td>31.000000</td>\n",
       "      <td>24.578947</td>\n",
       "      <td>3.411876</td>\n",
       "      <td>3.117288</td>\n",
       "      <td>10.635801</td>\n",
       "    </tr>\n",
       "    <tr>\n",
       "      <th>9</th>\n",
       "      <td>hc-dac-dunajska-streda</td>\n",
       "      <td>28.666667</td>\n",
       "      <td>22.555556</td>\n",
       "      <td>3.365624</td>\n",
       "      <td>3.150181</td>\n",
       "      <td>10.602323</td>\n",
       "    </tr>\n",
       "  </tbody>\n",
       "</table>\n",
       "</div>"
      ],
      "text/plain": [
       "                team_slug  attack_emp  defense_emp  attack_strength  \\\n",
       "0     mks-zaglebie-lubin1   32.461538    22.153846         3.459735   \n",
       "1     vipers-kristiansand   36.956522    25.956522         3.562251   \n",
       "2       gyori-audi-eto-kc   32.956522    24.782609         3.482834   \n",
       "3      rk-podravka-vegeta   31.400000    22.000000         3.394068   \n",
       "4           metz-handball   33.190476    24.047619         3.478869   \n",
       "5            team-esbjerg   33.037037    24.296296         3.470639   \n",
       "6      sg-bbm-bietigheimw   34.750000    25.250000         3.547333   \n",
       "7             ik-savehof1   30.700000    24.750000         3.435066   \n",
       "8         dvsc-schaeffler   31.000000    24.578947         3.411876   \n",
       "9  hc-dac-dunajska-streda   28.666667    22.555556         3.365624   \n",
       "\n",
       "   defense_strength   strength  \n",
       "0          3.203474  11.083171  \n",
       "1          3.071824  10.942611  \n",
       "2          3.141009  10.939613  \n",
       "3          3.202549  10.869670  \n",
       "4          3.119963  10.853945  \n",
       "5          3.113011  10.804136  \n",
       "6          3.043750  10.797195  \n",
       "7          3.114055  10.696983  \n",
       "8          3.117288  10.635801  \n",
       "9          3.150181  10.602323  "
      ]
     },
     "execution_count": 19,
     "metadata": {},
     "output_type": "execute_result"
    }
   ],
   "source": [
    "_cols_interest = ['team_slug', 'attack_emp', 'defense_emp', 'attack_strength', 'defense_strength', 'strength']\n",
    "ranking = hb_d.sel_params[_cols_interest][(hb_d.sel_params.season == '2022/2023') & (hb_d.sel_params.team_id.isin(teams))]\n",
    "ranking.sort_values(by='strength', ascending=False).reset_index(drop=True).head(10)"
   ]
  },
  {
   "cell_type": "markdown",
   "metadata": {},
   "source": [
    "From the strongest teams of our ranking, we can observe that most are part of the European Champions League 2023/2024 and some (such as Vipers Kristiansand or Gyori Audi Eto KC) were part of the final four in edition 2022/2023."
   ]
  },
  {
   "cell_type": "markdown",
   "metadata": {},
   "source": [
    "## References\n",
    "\n",
    "[1] Felice, F. (2023). Ranking Handball Teams from Statistical Strength Estimation. arXiv preprint arXiv:2307.06754"
   ]
  }
 ],
 "metadata": {
  "kernelspec": {
   "display_name": "Python 3",
   "language": "python",
   "name": "python3"
  },
  "language_info": {
   "codemirror_mode": {
    "name": "ipython",
    "version": 3
   },
   "file_extension": ".py",
   "mimetype": "text/x-python",
   "name": "python",
   "nbconvert_exporter": "python",
   "pygments_lexer": "ipython3",
   "version": "3.10.12"
  },
  "orig_nbformat": 4
 },
 "nbformat": 4,
 "nbformat_minor": 2
}
